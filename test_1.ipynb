{
 "cells": [
  {
   "cell_type": "code",
   "execution_count": 1,
   "id": "645c117a",
   "metadata": {},
   "outputs": [
    {
     "name": "stderr",
     "output_type": "stream",
     "text": [
      "DEBUG:src.parser.match_recognize_extractor:Full statement text: SELECT * FROM df MATCH_RECOGNIZE( ORDER BY id MEASURES MATCH_NUMBER() AS match_num PATTERN (()) DEFINE x AS TRUE );\n",
      "DEBUG:src.parser.match_recognize_extractor:Extracted SELECT clause: SelectClause(items=[SelectItem(expression=*, metadata={})])\n",
      "DEBUG:src.parser.match_recognize_extractor:Extracted FROM clause: FromClause(table='df')\n",
      "DEBUG:src.parser.match_recognize_extractor:Visiting PatternRecognition context\n",
      "DEBUG:src.parser.match_recognize_extractor:Extracted ORDER BY: OrderByClause(sort_items=[SortItem(column='id', ordering='ASC', nulls_ordering=None)])\n",
      "DEBUG:src.parser.match_recognize_extractor:Extracted MEASURES: MeasuresClause(measures=[Measure(expression='MATCH_NUMBER()', alias='match_num', metadata={'semantics': 'RUNNING'}, is_classifier=False, is_match_number=True)])\n",
      "DEBUG:src.parser.match_recognize_extractor:Extracted Pattern: PatternClause(pattern='()', metadata={'variables': [], 'base_variables': [], 'empty_pattern': True, 'allows_any_variable': True})\n",
      "DEBUG:src.parser.match_recognize_extractor:Extracted DEFINE: DefineClause(definitions=[Define(variable='x', condition='TRUE')])\n",
      "DEBUG:src.parser.match_recognize_extractor:Updated Pattern tokens: {'variables': [], 'base_variables': [], 'empty_pattern': True, 'allows_any_variable': True}\n",
      "DEBUG:src.parser.match_recognize_extractor:Empty pattern detected in validate_identifiers - skipping validation\n",
      "DEBUG:src.parser.match_recognize_extractor:Empty pattern detected - skipping variable validation\n",
      "DEBUG:src.parser.match_recognize_extractor:Validated function usage for measure: MATCH_NUMBER()\n",
      "DEBUG:src.parser.match_recognize_extractor:Extracted MATCH_RECOGNIZE clause via recursive search.\n"
     ]
    },
    {
     "name": "stdout",
     "output_type": "stream",
     "text": [
      "Pattern value: '()'\n",
      "Empty pattern detected - allowing any variable definition\n",
      "Start state is accepting - pattern allows empty matches\n",
      "Starting match at index 0, state: 0\n",
      "Found empty match at index 0 - start state is accepting\n",
      "Starting match at index 1, state: 0\n",
      "Found empty match at index 1 - start state is accepting\n",
      "Starting match at index 2, state: 0\n",
      "Found empty match at index 2 - start state is accepting\n",
      "   id  val  match_num  MATCH_NUMBER  IS_EMPTY_MATCH\n",
      "0   1   10          1             1            True\n",
      "1   2   20          2             2            True\n",
      "2   3   30          3             3            True\n"
     ]
    }
   ],
   "source": [
    "import pandas as pd\n",
    "from src.executor.match_recognize import match_recognize\n",
    "def test_empty_match_basic():\n",
    "    \"\"\"Test specific empty pattern case\"\"\"\n",
    "    df = pd.DataFrame({\n",
    "        'id': [1, 2, 3],\n",
    "        'val': [10, 20, 30]\n",
    "    })\n",
    "    \n",
    "    query = \"\"\"\n",
    "    SELECT *\n",
    "    FROM df \n",
    "    MATCH_RECOGNIZE(\n",
    "        ORDER BY id\n",
    "        MEASURES MATCH_NUMBER() AS match_num\n",
    "        PATTERN (())\n",
    "        DEFINE x AS TRUE\n",
    "    )\n",
    "    \"\"\"\n",
    "    \n",
    "    result = match_recognize(query, df)\n",
    "    print(result)\n",
    "    \n",
    "    assert len(result) == 3\n",
    "    assert list(result['match_num']) == [1, 2, 3]\n",
    "test_empty_match_basic()"
   ]
  },
  {
   "cell_type": "code",
   "execution_count": null,
   "id": "62609240",
   "metadata": {},
   "outputs": [],
   "source": []
  },
  {
   "cell_type": "code",
   "execution_count": null,
   "id": "a035f3c3",
   "metadata": {},
   "outputs": [
    {
     "ename": "ParserError",
     "evalue": "Syntax error at line 5, column 8: mismatched input 'MEASURES' expecting {'AFTER', 'INITIAL', 'PATTERN', 'SEEK'}. Please verify your MATCH_RECOGNIZE clause syntax according to the specification. (Line: 5, Column: 8)\nSnippet: SELECT id, name FROM employees MATCH_RECOGNIZE (\n        PARTITION BY department, region\n        ORDER BY hire_date\n        ALL ROWS PER MATCH\n        MEASURES salary AS avg_salary\n    \n        PATTERN (A+)\n        DEFINE A AS salary > 1000\n    );",
     "output_type": "error",
     "traceback": [
      "\u001b[0;31m---------------------------------------------------------------------------\u001b[0m",
      "\u001b[0;31mInputMismatchException\u001b[0m                    Traceback (most recent call last)",
      "File \u001b[0;32m~/Desktop/llm/Row_match_recognize/src/grammar/TrinoParser.py:11960\u001b[0m, in \u001b[0;36mTrinoParser.patternRecognition\u001b[0;34m(self)\u001b[0m\n\u001b[1;32m  11959\u001b[0m \u001b[38;5;28mself\u001b[39m\u001b[38;5;241m.\u001b[39mstate \u001b[38;5;241m=\u001b[39m \u001b[38;5;241m1620\u001b[39m\n\u001b[0;32m> 11960\u001b[0m \u001b[38;5;28mself\u001b[39m\u001b[38;5;241m.\u001b[39m_errHandler\u001b[38;5;241m.\u001b[39msync(\u001b[38;5;28mself\u001b[39m)\n\u001b[1;32m  11961\u001b[0m _la \u001b[38;5;241m=\u001b[39m \u001b[38;5;28mself\u001b[39m\u001b[38;5;241m.\u001b[39m_input\u001b[38;5;241m.\u001b[39mLA(\u001b[38;5;241m1\u001b[39m)\n",
      "File \u001b[0;32m~/anaconda3/lib/python3.12/site-packages/antlr4/error/ErrorStrategy.py:231\u001b[0m, in \u001b[0;36mDefaultErrorStrategy.sync\u001b[0;34m(self, recognizer)\u001b[0m\n\u001b[1;32m    230\u001b[0m     \u001b[38;5;28;01melse\u001b[39;00m:\n\u001b[0;32m--> 231\u001b[0m         \u001b[38;5;28;01mraise\u001b[39;00m InputMismatchException(recognizer)\n\u001b[1;32m    233\u001b[0m \u001b[38;5;28;01melif\u001b[39;00m s\u001b[38;5;241m.\u001b[39mstateType \u001b[38;5;129;01min\u001b[39;00m [ATNState\u001b[38;5;241m.\u001b[39mPLUS_LOOP_BACK, ATNState\u001b[38;5;241m.\u001b[39mSTAR_LOOP_BACK]:\n",
      "\u001b[0;31mInputMismatchException\u001b[0m: None",
      "\nDuring handling of the above exception, another exception occurred:\n",
      "\u001b[0;31mParserError\u001b[0m                               Traceback (most recent call last)",
      "Cell \u001b[0;32mIn[3], line 24\u001b[0m\n\u001b[1;32m      5\u001b[0m query \u001b[38;5;241m=\u001b[39m \u001b[38;5;124m\"\"\"\u001b[39m\n\u001b[1;32m      6\u001b[0m \u001b[38;5;124m    SELECT id, name FROM employees MATCH_RECOGNIZE (\u001b[39m\n\u001b[1;32m      7\u001b[0m \u001b[38;5;124m        PARTITION BY department, region\u001b[39m\n\u001b[0;32m   (...)\u001b[0m\n\u001b[1;32m     14\u001b[0m \u001b[38;5;124m    );\u001b[39m\n\u001b[1;32m     15\u001b[0m \u001b[38;5;124m    \u001b[39m\u001b[38;5;124m\"\"\"\u001b[39m\n\u001b[1;32m     17\u001b[0m data \u001b[38;5;241m=\u001b[39m [\n\u001b[1;32m     18\u001b[0m         {\u001b[38;5;124m\"\u001b[39m\u001b[38;5;124mid\u001b[39m\u001b[38;5;124m\"\u001b[39m: \u001b[38;5;241m1\u001b[39m, \u001b[38;5;124m\"\u001b[39m\u001b[38;5;124mname\u001b[39m\u001b[38;5;124m\"\u001b[39m: \u001b[38;5;124m\"\u001b[39m\u001b[38;5;124mAlice\u001b[39m\u001b[38;5;124m\"\u001b[39m,   \u001b[38;5;124m\"\u001b[39m\u001b[38;5;124mdepartment\u001b[39m\u001b[38;5;124m\"\u001b[39m: \u001b[38;5;124m\"\u001b[39m\u001b[38;5;124mSales\u001b[39m\u001b[38;5;124m\"\u001b[39m, \u001b[38;5;124m\"\u001b[39m\u001b[38;5;124mregion\u001b[39m\u001b[38;5;124m\"\u001b[39m: \u001b[38;5;124m\"\u001b[39m\u001b[38;5;124mWest\u001b[39m\u001b[38;5;124m\"\u001b[39m, \u001b[38;5;124m\"\u001b[39m\u001b[38;5;124mhire_date\u001b[39m\u001b[38;5;124m\"\u001b[39m: \u001b[38;5;124m\"\u001b[39m\u001b[38;5;124m2021-01-01\u001b[39m\u001b[38;5;124m\"\u001b[39m, \u001b[38;5;124m\"\u001b[39m\u001b[38;5;124msalary\u001b[39m\u001b[38;5;124m\"\u001b[39m: \u001b[38;5;241m1200\u001b[39m},\n\u001b[1;32m     19\u001b[0m         {\u001b[38;5;124m\"\u001b[39m\u001b[38;5;124mid\u001b[39m\u001b[38;5;124m\"\u001b[39m: \u001b[38;5;241m2\u001b[39m, \u001b[38;5;124m\"\u001b[39m\u001b[38;5;124mname\u001b[39m\u001b[38;5;124m\"\u001b[39m: \u001b[38;5;124m\"\u001b[39m\u001b[38;5;124mBob\u001b[39m\u001b[38;5;124m\"\u001b[39m,     \u001b[38;5;124m\"\u001b[39m\u001b[38;5;124mdepartment\u001b[39m\u001b[38;5;124m\"\u001b[39m: \u001b[38;5;124m\"\u001b[39m\u001b[38;5;124mSales\u001b[39m\u001b[38;5;124m\"\u001b[39m, \u001b[38;5;124m\"\u001b[39m\u001b[38;5;124mregion\u001b[39m\u001b[38;5;124m\"\u001b[39m: \u001b[38;5;124m\"\u001b[39m\u001b[38;5;124mWest\u001b[39m\u001b[38;5;124m\"\u001b[39m, \u001b[38;5;124m\"\u001b[39m\u001b[38;5;124mhire_date\u001b[39m\u001b[38;5;124m\"\u001b[39m: \u001b[38;5;124m\"\u001b[39m\u001b[38;5;124m2021-01-02\u001b[39m\u001b[38;5;124m\"\u001b[39m, \u001b[38;5;124m\"\u001b[39m\u001b[38;5;124msalary\u001b[39m\u001b[38;5;124m\"\u001b[39m: \u001b[38;5;241m1300\u001b[39m},\n\u001b[1;32m     20\u001b[0m         {\u001b[38;5;124m\"\u001b[39m\u001b[38;5;124mid\u001b[39m\u001b[38;5;124m\"\u001b[39m: \u001b[38;5;241m3\u001b[39m, \u001b[38;5;124m\"\u001b[39m\u001b[38;5;124mname\u001b[39m\u001b[38;5;124m\"\u001b[39m: \u001b[38;5;124m\"\u001b[39m\u001b[38;5;124mCharlie\u001b[39m\u001b[38;5;124m\"\u001b[39m, \u001b[38;5;124m\"\u001b[39m\u001b[38;5;124mdepartment\u001b[39m\u001b[38;5;124m\"\u001b[39m: \u001b[38;5;124m\"\u001b[39m\u001b[38;5;124mSales\u001b[39m\u001b[38;5;124m\"\u001b[39m, \u001b[38;5;124m\"\u001b[39m\u001b[38;5;124mregion\u001b[39m\u001b[38;5;124m\"\u001b[39m: \u001b[38;5;124m\"\u001b[39m\u001b[38;5;124mWest\u001b[39m\u001b[38;5;124m\"\u001b[39m, \u001b[38;5;124m\"\u001b[39m\u001b[38;5;124mhire_date\u001b[39m\u001b[38;5;124m\"\u001b[39m: \u001b[38;5;124m\"\u001b[39m\u001b[38;5;124m2021-01-03\u001b[39m\u001b[38;5;124m\"\u001b[39m, \u001b[38;5;124m\"\u001b[39m\u001b[38;5;124msalary\u001b[39m\u001b[38;5;124m\"\u001b[39m: \u001b[38;5;241m900\u001b[39m},\n\u001b[1;32m     21\u001b[0m         {\u001b[38;5;124m\"\u001b[39m\u001b[38;5;124mid\u001b[39m\u001b[38;5;124m\"\u001b[39m: \u001b[38;5;241m4\u001b[39m, \u001b[38;5;124m\"\u001b[39m\u001b[38;5;124mname\u001b[39m\u001b[38;5;124m\"\u001b[39m: \u001b[38;5;124m\"\u001b[39m\u001b[38;5;124mDiana\u001b[39m\u001b[38;5;124m\"\u001b[39m,   \u001b[38;5;124m\"\u001b[39m\u001b[38;5;124mdepartment\u001b[39m\u001b[38;5;124m\"\u001b[39m: \u001b[38;5;124m\"\u001b[39m\u001b[38;5;124mSales\u001b[39m\u001b[38;5;124m\"\u001b[39m, \u001b[38;5;124m\"\u001b[39m\u001b[38;5;124mregion\u001b[39m\u001b[38;5;124m\"\u001b[39m: \u001b[38;5;124m\"\u001b[39m\u001b[38;5;124mWest\u001b[39m\u001b[38;5;124m\"\u001b[39m, \u001b[38;5;124m\"\u001b[39m\u001b[38;5;124mhire_date\u001b[39m\u001b[38;5;124m\"\u001b[39m: \u001b[38;5;124m\"\u001b[39m\u001b[38;5;124m2021-01-04\u001b[39m\u001b[38;5;124m\"\u001b[39m, \u001b[38;5;124m\"\u001b[39m\u001b[38;5;124msalary\u001b[39m\u001b[38;5;124m\"\u001b[39m: \u001b[38;5;241m1100\u001b[39m},\n\u001b[1;32m     22\u001b[0m     ]\n\u001b[0;32m---> 24\u001b[0m output_df \u001b[38;5;241m=\u001b[39m match_recognize(query, pd\u001b[38;5;241m.\u001b[39mDataFrame(data))\n\u001b[1;32m     25\u001b[0m \u001b[38;5;28mprint\u001b[39m(\u001b[38;5;124m\"\u001b[39m\u001b[38;5;124mMatch Recognize Output:\u001b[39m\u001b[38;5;124m\"\u001b[39m)\n\u001b[1;32m     26\u001b[0m \u001b[38;5;28mprint\u001b[39m(output_df)\n",
      "File \u001b[0;32m~/Desktop/llm/Row_match_recognize/src/executor/match_recognize.py:51\u001b[0m, in \u001b[0;36mmatch_recognize\u001b[0;34m(query, df)\u001b[0m\n\u001b[1;32m     46\u001b[0m \u001b[38;5;250m\u001b[39m\u001b[38;5;124;03m\"\"\"\u001b[39;00m\n\u001b[1;32m     47\u001b[0m \u001b[38;5;124;03mExecute a MATCH_RECOGNIZE query against a Pandas DataFrame.\u001b[39;00m\n\u001b[1;32m     48\u001b[0m \u001b[38;5;124;03mEnhanced with support for all MATCH_RECOGNIZE features, including empty matches.\u001b[39;00m\n\u001b[1;32m     49\u001b[0m \u001b[38;5;124;03m\"\"\"\u001b[39;00m\n\u001b[1;32m     50\u001b[0m \u001b[38;5;66;03m# Parse the query and build the AST\u001b[39;00m\n\u001b[0;32m---> 51\u001b[0m ast \u001b[38;5;241m=\u001b[39m parse_full_query(query)\n\u001b[1;32m     52\u001b[0m mr_clause \u001b[38;5;241m=\u001b[39m ast\u001b[38;5;241m.\u001b[39mmatch_recognize\n\u001b[1;32m     53\u001b[0m \u001b[38;5;28;01mif\u001b[39;00m \u001b[38;5;129;01mnot\u001b[39;00m mr_clause:\n",
      "File \u001b[0;32m~/Desktop/llm/Row_match_recognize/src/parser/match_recognize_extractor.py:713\u001b[0m, in \u001b[0;36mparse_full_query\u001b[0;34m(query, dialect)\u001b[0m\n\u001b[1;32m    711\u001b[0m parser\u001b[38;5;241m.\u001b[39mremoveErrorListeners()\n\u001b[1;32m    712\u001b[0m parser\u001b[38;5;241m.\u001b[39maddErrorListener(CustomErrorListener())\n\u001b[0;32m--> 713\u001b[0m tree \u001b[38;5;241m=\u001b[39m parser\u001b[38;5;241m.\u001b[39mparse()\n\u001b[1;32m    714\u001b[0m extractor \u001b[38;5;241m=\u001b[39m FullQueryExtractor(query)\n\u001b[1;32m    715\u001b[0m extractor\u001b[38;5;241m.\u001b[39mvisit(tree)\n",
      "File \u001b[0;32m~/Desktop/llm/Row_match_recognize/src/grammar/TrinoParser.py:2141\u001b[0m, in \u001b[0;36mTrinoParser.parse\u001b[0;34m(self)\u001b[0m\n\u001b[1;32m   2139\u001b[0m \u001b[38;5;28;01mwhile\u001b[39;00m (((_la) \u001b[38;5;241m&\u001b[39m \u001b[38;5;241m~\u001b[39m\u001b[38;5;241m0x3f\u001b[39m) \u001b[38;5;241m==\u001b[39m \u001b[38;5;241m0\u001b[39m \u001b[38;5;129;01mand\u001b[39;00m ((\u001b[38;5;241m1\u001b[39m \u001b[38;5;241m<<\u001b[39m _la) \u001b[38;5;241m&\u001b[39m \u001b[38;5;241m-\u001b[39m\u001b[38;5;241m4611695235427862786\u001b[39m) \u001b[38;5;241m!=\u001b[39m \u001b[38;5;241m0\u001b[39m) \u001b[38;5;129;01mor\u001b[39;00m ((((_la \u001b[38;5;241m-\u001b[39m \u001b[38;5;241m64\u001b[39m)) \u001b[38;5;241m&\u001b[39m \u001b[38;5;241m~\u001b[39m\u001b[38;5;241m0x3f\u001b[39m) \u001b[38;5;241m==\u001b[39m \u001b[38;5;241m0\u001b[39m \u001b[38;5;129;01mand\u001b[39;00m ((\u001b[38;5;241m1\u001b[39m \u001b[38;5;241m<<\u001b[39m (_la \u001b[38;5;241m-\u001b[39m \u001b[38;5;241m64\u001b[39m)) \u001b[38;5;241m&\u001b[39m \u001b[38;5;241m-\u001b[39m\u001b[38;5;241m2347098961875043977\u001b[39m) \u001b[38;5;241m!=\u001b[39m \u001b[38;5;241m0\u001b[39m) \u001b[38;5;129;01mor\u001b[39;00m ((((_la \u001b[38;5;241m-\u001b[39m \u001b[38;5;241m128\u001b[39m)) \u001b[38;5;241m&\u001b[39m \u001b[38;5;241m~\u001b[39m\u001b[38;5;241m0x3f\u001b[39m) \u001b[38;5;241m==\u001b[39m \u001b[38;5;241m0\u001b[39m \u001b[38;5;129;01mand\u001b[39;00m ((\u001b[38;5;241m1\u001b[39m \u001b[38;5;241m<<\u001b[39m (_la \u001b[38;5;241m-\u001b[39m \u001b[38;5;241m128\u001b[39m)) \u001b[38;5;241m&\u001b[39m \u001b[38;5;241m-\u001b[39m\u001b[38;5;241m6227633993941633\u001b[39m) \u001b[38;5;241m!=\u001b[39m \u001b[38;5;241m0\u001b[39m) \u001b[38;5;129;01mor\u001b[39;00m ((((_la \u001b[38;5;241m-\u001b[39m \u001b[38;5;241m192\u001b[39m)) \u001b[38;5;241m&\u001b[39m \u001b[38;5;241m~\u001b[39m\u001b[38;5;241m0x3f\u001b[39m) \u001b[38;5;241m==\u001b[39m \u001b[38;5;241m0\u001b[39m \u001b[38;5;129;01mand\u001b[39;00m ((\u001b[38;5;241m1\u001b[39m \u001b[38;5;241m<<\u001b[39m (_la \u001b[38;5;241m-\u001b[39m \u001b[38;5;241m192\u001b[39m)) \u001b[38;5;241m&\u001b[39m \u001b[38;5;241m-\u001b[39m\u001b[38;5;241m144150373018374145\u001b[39m) \u001b[38;5;241m!=\u001b[39m \u001b[38;5;241m0\u001b[39m) \u001b[38;5;129;01mor\u001b[39;00m ((((_la \u001b[38;5;241m-\u001b[39m \u001b[38;5;241m256\u001b[39m)) \u001b[38;5;241m&\u001b[39m \u001b[38;5;241m~\u001b[39m\u001b[38;5;241m0x3f\u001b[39m) \u001b[38;5;241m==\u001b[39m \u001b[38;5;241m0\u001b[39m \u001b[38;5;129;01mand\u001b[39;00m ((\u001b[38;5;241m1\u001b[39m \u001b[38;5;241m<<\u001b[39m (_la \u001b[38;5;241m-\u001b[39m \u001b[38;5;241m256\u001b[39m)) \u001b[38;5;241m&\u001b[39m \u001b[38;5;241m-\u001b[39m\u001b[38;5;241m9074541044212965921\u001b[39m) \u001b[38;5;241m!=\u001b[39m \u001b[38;5;241m0\u001b[39m) \u001b[38;5;129;01mor\u001b[39;00m ((((_la \u001b[38;5;241m-\u001b[39m \u001b[38;5;241m325\u001b[39m)) \u001b[38;5;241m&\u001b[39m \u001b[38;5;241m~\u001b[39m\u001b[38;5;241m0x3f\u001b[39m) \u001b[38;5;241m==\u001b[39m \u001b[38;5;241m0\u001b[39m \u001b[38;5;129;01mand\u001b[39;00m ((\u001b[38;5;241m1\u001b[39m \u001b[38;5;241m<<\u001b[39m (_la \u001b[38;5;241m-\u001b[39m \u001b[38;5;241m325\u001b[39m)) \u001b[38;5;241m&\u001b[39m \u001b[38;5;241m4095\u001b[39m) \u001b[38;5;241m!=\u001b[39m \u001b[38;5;241m0\u001b[39m):\n\u001b[1;32m   2140\u001b[0m     \u001b[38;5;28mself\u001b[39m\u001b[38;5;241m.\u001b[39mstate \u001b[38;5;241m=\u001b[39m \u001b[38;5;241m252\u001b[39m\n\u001b[0;32m-> 2141\u001b[0m     \u001b[38;5;28mself\u001b[39m\u001b[38;5;241m.\u001b[39mstatements()\n\u001b[1;32m   2142\u001b[0m     \u001b[38;5;28mself\u001b[39m\u001b[38;5;241m.\u001b[39mstate \u001b[38;5;241m=\u001b[39m \u001b[38;5;241m257\u001b[39m\n\u001b[1;32m   2143\u001b[0m     \u001b[38;5;28mself\u001b[39m\u001b[38;5;241m.\u001b[39m_errHandler\u001b[38;5;241m.\u001b[39msync(\u001b[38;5;28mself\u001b[39m)\n",
      "File \u001b[0;32m~/Desktop/llm/Row_match_recognize/src/grammar/TrinoParser.py:2223\u001b[0m, in \u001b[0;36mTrinoParser.statements\u001b[0;34m(self)\u001b[0m\n\u001b[1;32m   2221\u001b[0m     \u001b[38;5;28mself\u001b[39m\u001b[38;5;241m.\u001b[39menterOuterAlt(localctx, \u001b[38;5;241m1\u001b[39m)\n\u001b[1;32m   2222\u001b[0m     \u001b[38;5;28mself\u001b[39m\u001b[38;5;241m.\u001b[39mstate \u001b[38;5;241m=\u001b[39m \u001b[38;5;241m260\u001b[39m\n\u001b[0;32m-> 2223\u001b[0m     \u001b[38;5;28mself\u001b[39m\u001b[38;5;241m.\u001b[39msingleStatement()\n\u001b[1;32m   2224\u001b[0m     \u001b[38;5;28;01mpass\u001b[39;00m\n\u001b[1;32m   2226\u001b[0m \u001b[38;5;28;01melif\u001b[39;00m la_ \u001b[38;5;241m==\u001b[39m \u001b[38;5;241m2\u001b[39m:\n",
      "File \u001b[0;32m~/Desktop/llm/Row_match_recognize/src/grammar/TrinoParser.py:2315\u001b[0m, in \u001b[0;36mTrinoParser.singleStatement\u001b[0;34m(self)\u001b[0m\n\u001b[1;32m   2313\u001b[0m \u001b[38;5;28mself\u001b[39m\u001b[38;5;241m.\u001b[39menterOuterAlt(localctx, \u001b[38;5;241m1\u001b[39m)\n\u001b[1;32m   2314\u001b[0m \u001b[38;5;28mself\u001b[39m\u001b[38;5;241m.\u001b[39mstate \u001b[38;5;241m=\u001b[39m \u001b[38;5;241m271\u001b[39m\n\u001b[0;32m-> 2315\u001b[0m \u001b[38;5;28mself\u001b[39m\u001b[38;5;241m.\u001b[39mstatement()\n\u001b[1;32m   2316\u001b[0m \u001b[38;5;28mself\u001b[39m\u001b[38;5;241m.\u001b[39mstate \u001b[38;5;241m=\u001b[39m \u001b[38;5;241m272\u001b[39m\n\u001b[1;32m   2317\u001b[0m \u001b[38;5;28mself\u001b[39m\u001b[38;5;241m.\u001b[39mmatch(TrinoParser\u001b[38;5;241m.\u001b[39mSEMICOLON_)\n",
      "File \u001b[0;32m~/Desktop/llm/Row_match_recognize/src/grammar/TrinoParser.py:5801\u001b[0m, in \u001b[0;36mTrinoParser.statement\u001b[0;34m(self)\u001b[0m\n\u001b[1;32m   5799\u001b[0m     \u001b[38;5;28mself\u001b[39m\u001b[38;5;241m.\u001b[39menterOuterAlt(localctx, \u001b[38;5;241m1\u001b[39m)\n\u001b[1;32m   5800\u001b[0m     \u001b[38;5;28mself\u001b[39m\u001b[38;5;241m.\u001b[39mstate \u001b[38;5;241m=\u001b[39m \u001b[38;5;241m289\u001b[39m\n\u001b[0;32m-> 5801\u001b[0m     \u001b[38;5;28mself\u001b[39m\u001b[38;5;241m.\u001b[39mrootQuery()\n\u001b[1;32m   5802\u001b[0m     \u001b[38;5;28;01mpass\u001b[39;00m\n\u001b[1;32m   5804\u001b[0m \u001b[38;5;28;01melif\u001b[39;00m la_ \u001b[38;5;241m==\u001b[39m \u001b[38;5;241m2\u001b[39m:\n",
      "File \u001b[0;32m~/Desktop/llm/Row_match_recognize/src/grammar/TrinoParser.py:8251\u001b[0m, in \u001b[0;36mTrinoParser.rootQuery\u001b[0;34m(self)\u001b[0m\n\u001b[1;32m   8247\u001b[0m         \u001b[38;5;28mself\u001b[39m\u001b[38;5;241m.\u001b[39mwithFunction()\n\u001b[1;32m   8250\u001b[0m     \u001b[38;5;28mself\u001b[39m\u001b[38;5;241m.\u001b[39mstate \u001b[38;5;241m=\u001b[39m \u001b[38;5;241m1165\u001b[39m\n\u001b[0;32m-> 8251\u001b[0m     \u001b[38;5;28mself\u001b[39m\u001b[38;5;241m.\u001b[39mquery()\n\u001b[1;32m   8252\u001b[0m \u001b[38;5;28;01mexcept\u001b[39;00m RecognitionException \u001b[38;5;28;01mas\u001b[39;00m re:\n\u001b[1;32m   8253\u001b[0m     localctx\u001b[38;5;241m.\u001b[39mexception \u001b[38;5;241m=\u001b[39m re\n",
      "File \u001b[0;32m~/Desktop/llm/Row_match_recognize/src/grammar/TrinoParser.py:8387\u001b[0m, in \u001b[0;36mTrinoParser.query\u001b[0;34m(self)\u001b[0m\n\u001b[1;32m   8383\u001b[0m         \u001b[38;5;28mself\u001b[39m\u001b[38;5;241m.\u001b[39mwith_()\n\u001b[1;32m   8386\u001b[0m     \u001b[38;5;28mself\u001b[39m\u001b[38;5;241m.\u001b[39mstate \u001b[38;5;241m=\u001b[39m \u001b[38;5;241m1179\u001b[39m\n\u001b[0;32m-> 8387\u001b[0m     \u001b[38;5;28mself\u001b[39m\u001b[38;5;241m.\u001b[39mqueryNoWith()\n\u001b[1;32m   8388\u001b[0m \u001b[38;5;28;01mexcept\u001b[39;00m RecognitionException \u001b[38;5;28;01mas\u001b[39;00m re:\n\u001b[1;32m   8389\u001b[0m     localctx\u001b[38;5;241m.\u001b[39mexception \u001b[38;5;241m=\u001b[39m re\n",
      "File \u001b[0;32m~/Desktop/llm/Row_match_recognize/src/grammar/TrinoParser.py:9127\u001b[0m, in \u001b[0;36mTrinoParser.queryNoWith\u001b[0;34m(self)\u001b[0m\n\u001b[1;32m   9125\u001b[0m \u001b[38;5;28mself\u001b[39m\u001b[38;5;241m.\u001b[39menterOuterAlt(localctx, \u001b[38;5;241m1\u001b[39m)\n\u001b[1;32m   9126\u001b[0m \u001b[38;5;28mself\u001b[39m\u001b[38;5;241m.\u001b[39mstate \u001b[38;5;241m=\u001b[39m \u001b[38;5;241m1237\u001b[39m\n\u001b[0;32m-> 9127\u001b[0m \u001b[38;5;28mself\u001b[39m\u001b[38;5;241m.\u001b[39mqueryTerm(\u001b[38;5;241m0\u001b[39m)\n\u001b[1;32m   9128\u001b[0m \u001b[38;5;28mself\u001b[39m\u001b[38;5;241m.\u001b[39mstate \u001b[38;5;241m=\u001b[39m \u001b[38;5;241m1248\u001b[39m\n\u001b[1;32m   9129\u001b[0m \u001b[38;5;28mself\u001b[39m\u001b[38;5;241m.\u001b[39m_errHandler\u001b[38;5;241m.\u001b[39msync(\u001b[38;5;28mself\u001b[39m)\n",
      "File \u001b[0;32m~/Desktop/llm/Row_match_recognize/src/grammar/TrinoParser.py:9456\u001b[0m, in \u001b[0;36mTrinoParser.queryTerm\u001b[0;34m(self, _p)\u001b[0m\n\u001b[1;32m   9453\u001b[0m _prevctx \u001b[38;5;241m=\u001b[39m localctx\n\u001b[1;32m   9455\u001b[0m \u001b[38;5;28mself\u001b[39m\u001b[38;5;241m.\u001b[39mstate \u001b[38;5;241m=\u001b[39m \u001b[38;5;241m1279\u001b[39m\n\u001b[0;32m-> 9456\u001b[0m \u001b[38;5;28mself\u001b[39m\u001b[38;5;241m.\u001b[39mqueryPrimary()\n\u001b[1;32m   9457\u001b[0m \u001b[38;5;28mself\u001b[39m\u001b[38;5;241m.\u001b[39m_ctx\u001b[38;5;241m.\u001b[39mstop \u001b[38;5;241m=\u001b[39m \u001b[38;5;28mself\u001b[39m\u001b[38;5;241m.\u001b[39m_input\u001b[38;5;241m.\u001b[39mLT(\u001b[38;5;241m-\u001b[39m\u001b[38;5;241m1\u001b[39m)\n\u001b[1;32m   9458\u001b[0m \u001b[38;5;28mself\u001b[39m\u001b[38;5;241m.\u001b[39mstate \u001b[38;5;241m=\u001b[39m \u001b[38;5;241m1295\u001b[39m\n",
      "File \u001b[0;32m~/Desktop/llm/Row_match_recognize/src/grammar/TrinoParser.py:9679\u001b[0m, in \u001b[0;36mTrinoParser.queryPrimary\u001b[0;34m(self)\u001b[0m\n\u001b[1;32m   9677\u001b[0m     \u001b[38;5;28mself\u001b[39m\u001b[38;5;241m.\u001b[39menterOuterAlt(localctx, \u001b[38;5;241m1\u001b[39m)\n\u001b[1;32m   9678\u001b[0m     \u001b[38;5;28mself\u001b[39m\u001b[38;5;241m.\u001b[39mstate \u001b[38;5;241m=\u001b[39m \u001b[38;5;241m1298\u001b[39m\n\u001b[0;32m-> 9679\u001b[0m     \u001b[38;5;28mself\u001b[39m\u001b[38;5;241m.\u001b[39mquerySpecification()\n\u001b[1;32m   9680\u001b[0m     \u001b[38;5;28;01mpass\u001b[39;00m\n\u001b[1;32m   9681\u001b[0m \u001b[38;5;28;01melif\u001b[39;00m token \u001b[38;5;129;01min\u001b[39;00m [\u001b[38;5;241m244\u001b[39m]:\n",
      "File \u001b[0;32m~/Desktop/llm/Row_match_recognize/src/grammar/TrinoParser.py:9958\u001b[0m, in \u001b[0;36mTrinoParser.querySpecification\u001b[0;34m(self)\u001b[0m\n\u001b[1;32m   9956\u001b[0m \u001b[38;5;28mself\u001b[39m\u001b[38;5;241m.\u001b[39mmatch(TrinoParser\u001b[38;5;241m.\u001b[39mFROM_)\n\u001b[1;32m   9957\u001b[0m \u001b[38;5;28mself\u001b[39m\u001b[38;5;241m.\u001b[39mstate \u001b[38;5;241m=\u001b[39m \u001b[38;5;241m1337\u001b[39m\n\u001b[0;32m-> 9958\u001b[0m \u001b[38;5;28mself\u001b[39m\u001b[38;5;241m.\u001b[39mrelation(\u001b[38;5;241m0\u001b[39m)\n\u001b[1;32m   9959\u001b[0m \u001b[38;5;28mself\u001b[39m\u001b[38;5;241m.\u001b[39mstate \u001b[38;5;241m=\u001b[39m \u001b[38;5;241m1342\u001b[39m\n\u001b[1;32m   9960\u001b[0m \u001b[38;5;28mself\u001b[39m\u001b[38;5;241m.\u001b[39m_errHandler\u001b[38;5;241m.\u001b[39msync(\u001b[38;5;28mself\u001b[39m)\n",
      "File \u001b[0;32m~/Desktop/llm/Row_match_recognize/src/grammar/TrinoParser.py:11111\u001b[0m, in \u001b[0;36mTrinoParser.relation\u001b[0;34m(self, _p)\u001b[0m\n\u001b[1;32m  11108\u001b[0m _prevctx \u001b[38;5;241m=\u001b[39m localctx\n\u001b[1;32m  11110\u001b[0m \u001b[38;5;28mself\u001b[39m\u001b[38;5;241m.\u001b[39mstate \u001b[38;5;241m=\u001b[39m \u001b[38;5;241m1504\u001b[39m\n\u001b[0;32m> 11111\u001b[0m \u001b[38;5;28mself\u001b[39m\u001b[38;5;241m.\u001b[39msampledRelation()\n\u001b[1;32m  11112\u001b[0m \u001b[38;5;28mself\u001b[39m\u001b[38;5;241m.\u001b[39m_ctx\u001b[38;5;241m.\u001b[39mstop \u001b[38;5;241m=\u001b[39m \u001b[38;5;28mself\u001b[39m\u001b[38;5;241m.\u001b[39m_input\u001b[38;5;241m.\u001b[39mLT(\u001b[38;5;241m-\u001b[39m\u001b[38;5;241m1\u001b[39m)\n\u001b[1;32m  11113\u001b[0m \u001b[38;5;28mself\u001b[39m\u001b[38;5;241m.\u001b[39mstate \u001b[38;5;241m=\u001b[39m \u001b[38;5;241m1524\u001b[39m\n",
      "File \u001b[0;32m~/Desktop/llm/Row_match_recognize/src/grammar/TrinoParser.py:11430\u001b[0m, in \u001b[0;36mTrinoParser.sampledRelation\u001b[0;34m(self)\u001b[0m\n\u001b[1;32m  11428\u001b[0m \u001b[38;5;28mself\u001b[39m\u001b[38;5;241m.\u001b[39menterOuterAlt(localctx, \u001b[38;5;241m1\u001b[39m)\n\u001b[1;32m  11429\u001b[0m \u001b[38;5;28mself\u001b[39m\u001b[38;5;241m.\u001b[39mstate \u001b[38;5;241m=\u001b[39m \u001b[38;5;241m1552\u001b[39m\n\u001b[0;32m> 11430\u001b[0m \u001b[38;5;28mself\u001b[39m\u001b[38;5;241m.\u001b[39mpatternRecognition()\n\u001b[1;32m  11431\u001b[0m \u001b[38;5;28mself\u001b[39m\u001b[38;5;241m.\u001b[39mstate \u001b[38;5;241m=\u001b[39m \u001b[38;5;241m1559\u001b[39m\n\u001b[1;32m  11432\u001b[0m \u001b[38;5;28mself\u001b[39m\u001b[38;5;241m.\u001b[39m_errHandler\u001b[38;5;241m.\u001b[39msync(\u001b[38;5;28mself\u001b[39m)\n",
      "File \u001b[0;32m~/Desktop/llm/Row_match_recognize/src/grammar/TrinoParser.py:12060\u001b[0m, in \u001b[0;36mTrinoParser.patternRecognition\u001b[0;34m(self)\u001b[0m\n\u001b[1;32m  12058\u001b[0m \u001b[38;5;28;01mexcept\u001b[39;00m RecognitionException \u001b[38;5;28;01mas\u001b[39;00m re:\n\u001b[1;32m  12059\u001b[0m     localctx\u001b[38;5;241m.\u001b[39mexception \u001b[38;5;241m=\u001b[39m re\n\u001b[0;32m> 12060\u001b[0m     \u001b[38;5;28mself\u001b[39m\u001b[38;5;241m.\u001b[39m_errHandler\u001b[38;5;241m.\u001b[39mreportError(\u001b[38;5;28mself\u001b[39m, re)\n\u001b[1;32m  12061\u001b[0m     \u001b[38;5;28mself\u001b[39m\u001b[38;5;241m.\u001b[39m_errHandler\u001b[38;5;241m.\u001b[39mrecover(\u001b[38;5;28mself\u001b[39m, re)\n\u001b[1;32m  12062\u001b[0m \u001b[38;5;28;01mfinally\u001b[39;00m:\n",
      "File \u001b[0;32m~/anaconda3/lib/python3.12/site-packages/antlr4/error/ErrorStrategy.py:128\u001b[0m, in \u001b[0;36mDefaultErrorStrategy.reportError\u001b[0;34m(self, recognizer, e)\u001b[0m\n\u001b[1;32m    126\u001b[0m     \u001b[38;5;28mself\u001b[39m\u001b[38;5;241m.\u001b[39mreportNoViableAlternative(recognizer, e)\n\u001b[1;32m    127\u001b[0m \u001b[38;5;28;01melif\u001b[39;00m \u001b[38;5;28misinstance\u001b[39m( e, InputMismatchException ):\n\u001b[0;32m--> 128\u001b[0m     \u001b[38;5;28mself\u001b[39m\u001b[38;5;241m.\u001b[39mreportInputMismatch(recognizer, e)\n\u001b[1;32m    129\u001b[0m \u001b[38;5;28;01melif\u001b[39;00m \u001b[38;5;28misinstance\u001b[39m( e, FailedPredicateException ):\n\u001b[1;32m    130\u001b[0m     \u001b[38;5;28mself\u001b[39m\u001b[38;5;241m.\u001b[39mreportFailedPredicate(recognizer, e)\n",
      "File \u001b[0;32m~/anaconda3/lib/python3.12/site-packages/antlr4/error/ErrorStrategy.py:275\u001b[0m, in \u001b[0;36mDefaultErrorStrategy.reportInputMismatch\u001b[0;34m(self, recognizer, e)\u001b[0m\n\u001b[1;32m    272\u001b[0m \u001b[38;5;28;01mdef\u001b[39;00m \u001b[38;5;21mreportInputMismatch\u001b[39m(\u001b[38;5;28mself\u001b[39m, recognizer:Parser, e:InputMismatchException):\n\u001b[1;32m    273\u001b[0m     msg \u001b[38;5;241m=\u001b[39m \u001b[38;5;124m\"\u001b[39m\u001b[38;5;124mmismatched input \u001b[39m\u001b[38;5;124m\"\u001b[39m \u001b[38;5;241m+\u001b[39m \u001b[38;5;28mself\u001b[39m\u001b[38;5;241m.\u001b[39mgetTokenErrorDisplay(e\u001b[38;5;241m.\u001b[39moffendingToken) \\\n\u001b[1;32m    274\u001b[0m           \u001b[38;5;241m+\u001b[39m \u001b[38;5;124m\"\u001b[39m\u001b[38;5;124m expecting \u001b[39m\u001b[38;5;124m\"\u001b[39m \u001b[38;5;241m+\u001b[39m e\u001b[38;5;241m.\u001b[39mgetExpectedTokens()\u001b[38;5;241m.\u001b[39mtoString(recognizer\u001b[38;5;241m.\u001b[39mliteralNames, recognizer\u001b[38;5;241m.\u001b[39msymbolicNames)\n\u001b[0;32m--> 275\u001b[0m     recognizer\u001b[38;5;241m.\u001b[39mnotifyErrorListeners(msg, e\u001b[38;5;241m.\u001b[39moffendingToken, e)\n",
      "File \u001b[0;32m~/anaconda3/lib/python3.12/site-packages/antlr4/Parser.py:322\u001b[0m, in \u001b[0;36mParser.notifyErrorListeners\u001b[0;34m(self, msg, offendingToken, e)\u001b[0m\n\u001b[1;32m    320\u001b[0m column \u001b[38;5;241m=\u001b[39m offendingToken\u001b[38;5;241m.\u001b[39mcolumn\n\u001b[1;32m    321\u001b[0m listener \u001b[38;5;241m=\u001b[39m \u001b[38;5;28mself\u001b[39m\u001b[38;5;241m.\u001b[39mgetErrorListenerDispatch()\n\u001b[0;32m--> 322\u001b[0m listener\u001b[38;5;241m.\u001b[39msyntaxError(\u001b[38;5;28mself\u001b[39m, offendingToken, line, column, msg, e)\n",
      "File \u001b[0;32m~/anaconda3/lib/python3.12/site-packages/antlr4/error/ErrorListener.py:60\u001b[0m, in \u001b[0;36mProxyErrorListener.syntaxError\u001b[0;34m(self, recognizer, offendingSymbol, line, column, msg, e)\u001b[0m\n\u001b[1;32m     58\u001b[0m \u001b[38;5;28;01mdef\u001b[39;00m \u001b[38;5;21msyntaxError\u001b[39m(\u001b[38;5;28mself\u001b[39m, recognizer, offendingSymbol, line, column, msg, e):\n\u001b[1;32m     59\u001b[0m     \u001b[38;5;28;01mfor\u001b[39;00m delegate \u001b[38;5;129;01min\u001b[39;00m \u001b[38;5;28mself\u001b[39m\u001b[38;5;241m.\u001b[39mdelegates:\n\u001b[0;32m---> 60\u001b[0m         delegate\u001b[38;5;241m.\u001b[39msyntaxError(recognizer, offendingSymbol, line, column, msg, e)\n",
      "File \u001b[0;32m~/Desktop/llm/Row_match_recognize/src/parser/error_listeners.py:21\u001b[0m, in \u001b[0;36mCustomErrorListener.syntaxError\u001b[0;34m(self, recognizer, offendingSymbol, line, column, msg, e)\u001b[0m\n\u001b[1;32m     18\u001b[0m \u001b[38;5;28;01mdef\u001b[39;00m \u001b[38;5;21msyntaxError\u001b[39m(\u001b[38;5;28mself\u001b[39m, recognizer, offendingSymbol, line, column, msg, e):\n\u001b[1;32m     19\u001b[0m     custom_msg \u001b[38;5;241m=\u001b[39m (\u001b[38;5;124mf\u001b[39m\u001b[38;5;124m\"\u001b[39m\u001b[38;5;124mSyntax error at line \u001b[39m\u001b[38;5;132;01m{\u001b[39;00mline\u001b[38;5;132;01m}\u001b[39;00m\u001b[38;5;124m, column \u001b[39m\u001b[38;5;132;01m{\u001b[39;00mcolumn\u001b[38;5;132;01m}\u001b[39;00m\u001b[38;5;124m: \u001b[39m\u001b[38;5;132;01m{\u001b[39;00mmsg\u001b[38;5;132;01m}\u001b[39;00m\u001b[38;5;124m. \u001b[39m\u001b[38;5;124m\"\u001b[39m\n\u001b[1;32m     20\u001b[0m                   \u001b[38;5;124m\"\u001b[39m\u001b[38;5;124mPlease verify your MATCH_RECOGNIZE clause syntax according to the specification.\u001b[39m\u001b[38;5;124m\"\u001b[39m)\n\u001b[0;32m---> 21\u001b[0m     \u001b[38;5;28;01mraise\u001b[39;00m ParserError(custom_msg, line\u001b[38;5;241m=\u001b[39mline, column\u001b[38;5;241m=\u001b[39mcolumn,\n\u001b[1;32m     22\u001b[0m                       snippet\u001b[38;5;241m=\u001b[39mrecognizer\u001b[38;5;241m.\u001b[39mgetInputStream()\u001b[38;5;241m.\u001b[39mgetText())\n",
      "\u001b[0;31mParserError\u001b[0m: Syntax error at line 5, column 8: mismatched input 'MEASURES' expecting {'AFTER', 'INITIAL', 'PATTERN', 'SEEK'}. Please verify your MATCH_RECOGNIZE clause syntax according to the specification. (Line: 5, Column: 8)\nSnippet: SELECT id, name FROM employees MATCH_RECOGNIZE (\n        PARTITION BY department, region\n        ORDER BY hire_date\n        ALL ROWS PER MATCH\n        MEASURES salary AS avg_salary\n    \n        PATTERN (A+)\n        DEFINE A AS salary > 1000\n    );"
     ]
    }
   ],
   "source": [
    "import pandas as pd\n",
    "from src.executor.match_recognize import match_recognize\n",
    "# Use an absolute import for match_recognize.\n",
    "\n",
    "query = \"\"\"\n",
    "    SELECT id, name FROM employees MATCH_RECOGNIZE (\n",
    "        PARTITION BY department, region\n",
    "        ORDER BY hire_date\n",
    "        MEASURES salary AS avg_salary\n",
    "        ALL ROWS PER MATCH\n",
    "        PATTERN (A+)\n",
    "        DEFINE A AS salary > 1000\n",
    "    );\n",
    "    \"\"\"\n",
    "    \n",
    "data = [\n",
    "        {\"id\": 1, \"name\": \"Alice\",   \"department\": \"Sales\", \"region\": \"West\", \"hire_date\": \"2021-01-01\", \"salary\": 1200},\n",
    "        {\"id\": 2, \"name\": \"Bob\",     \"department\": \"Sales\", \"region\": \"West\", \"hire_date\": \"2021-01-02\", \"salary\": 1300},\n",
    "        {\"id\": 3, \"name\": \"Charlie\", \"department\": \"Sales\", \"region\": \"West\", \"hire_date\": \"2021-01-03\", \"salary\": 900},\n",
    "        {\"id\": 4, \"name\": \"Diana\",   \"department\": \"Sales\", \"region\": \"West\", \"hire_date\": \"2021-01-04\", \"salary\": 1100},\n",
    "    ]\n",
    "    \n",
    "output_df = match_recognize(query, pd.DataFrame(data))\n",
    "print(\"Match Recognize Output:\")\n",
    "print(output_df)\n"
   ]
  },
  {
   "cell_type": "code",
   "execution_count": null,
   "id": "0d6249e6",
   "metadata": {},
   "outputs": [],
   "source": []
  }
 ],
 "metadata": {
  "kernelspec": {
   "display_name": "base",
   "language": "python",
   "name": "python3"
  },
  "language_info": {
   "codemirror_mode": {
    "name": "ipython",
    "version": 3
   },
   "file_extension": ".py",
   "mimetype": "text/x-python",
   "name": "python",
   "nbconvert_exporter": "python",
   "pygments_lexer": "ipython3",
   "version": "3.12.7"
  }
 },
 "nbformat": 4,
 "nbformat_minor": 5
}
