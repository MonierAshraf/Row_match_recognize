{
 "cells": [
  {
   "cell_type": "code",
   "execution_count": 1,
   "id": "e2fe3cba",
   "metadata": {},
   "outputs": [
    {
     "name": "stdout",
     "output_type": "stream",
     "text": [
      "   Company Price_date  Price\n",
      "0        A 2020-10-01     50\n",
      "1        B 2020-10-01     89\n",
      "2        A 2020-10-02     36\n",
      "3        B 2020-10-02     24\n",
      "4        A 2020-10-03     39\n",
      "5        B 2020-10-03     37\n",
      "6        A 2020-10-04     42\n",
      "7        B 2020-10-04     63\n",
      "8        A 2020-10-05     30\n",
      "9        B 2020-10-05     65\n",
      "10       A 2020-10-06     47\n",
      "11       B 2020-10-06     56\n",
      "12       A 2020-10-07     71\n",
      "13       B 2020-10-07     50\n",
      "14       A 2020-10-08     80\n",
      "15       B 2020-10-08     54\n",
      "16       A 2020-10-09     75\n",
      "17       B 2020-10-09     30\n",
      "18       A 2020-10-10     63\n",
      "19       B 2020-10-10     32\n"
     ]
    }
   ],
   "source": [
    "import pandas as pd\n",
    "\n",
    "data = {\n",
    "    \"Company\": [\n",
    "        \"A\",\"B\",\"A\",\"B\",\"A\",\"B\",\"A\",\"B\",\"A\",\"B\",\n",
    "        \"A\",\"B\",\"A\",\"B\",\"A\",\"B\",\"A\",\"B\",\"A\",\"B\"\n",
    "    ],\n",
    "    \"Price_date\": [\n",
    "        \"2020-10-01\",\"2020-10-01\",\"2020-10-02\",\"2020-10-02\",\"2020-10-03\",\"2020-10-03\",\n",
    "        \"2020-10-04\",\"2020-10-04\",\"2020-10-05\",\"2020-10-05\",\"2020-10-06\",\"2020-10-06\",\n",
    "        \"2020-10-07\",\"2020-10-07\",\"2020-10-08\",\"2020-10-08\",\"2020-10-09\",\"2020-10-09\",\n",
    "        \"2020-10-10\",\"2020-10-10\"\n",
    "    ],\n",
    "    \"Price\": [\n",
    "        50,89,36,24,39,37,42,63,30,65,\n",
    "        47,56,71,50,80,54,75,30,63,32\n",
    "    ]\n",
    "}\n",
    "\n",
    "df = pd.DataFrame(data)\n",
    "\n",
    "# Ensure date column is datetime\n",
    "df[\"Price_date\"] = pd.to_datetime(df[\"Price_date\"])\n",
    "\n",
    "print(df)\n"
   ]
  },
  {
   "cell_type": "code",
   "execution_count": 9,
   "id": "2943abab",
   "metadata": {},
   "outputs": [
    {
     "name": "stdout",
     "output_type": "stream",
     "text": [
      "Testing:\n",
      "  Company Price_date  Price\n",
      "0       A 2020-10-03     39\n",
      "1       A 2020-10-06     47\n",
      "2       B 2020-10-03     37\n",
      "\n"
     ]
    }
   ],
   "source": [
    "import pandas as pd\n",
    "from src.executor.match_recognize import match_recognize\n",
    "\n",
    "data = {\n",
    "    \"Company\": [\n",
    "        \"A\",\"B\",\"A\",\"B\",\"A\",\"B\",\"A\",\"B\",\"A\",\"B\",\n",
    "        \"A\",\"B\",\"A\",\"B\",\"A\",\"B\",\"A\",\"B\",\"A\",\"B\"\n",
    "    ],\n",
    "    \"Price_date\": [\n",
    "        \"2020-10-01\",\"2020-10-01\",\"2020-10-02\",\"2020-10-02\",\"2020-10-03\",\"2020-10-03\",\n",
    "        \"2020-10-04\",\"2020-10-04\",\"2020-10-05\",\"2020-10-05\",\"2020-10-06\",\"2020-10-06\",\n",
    "        \"2020-10-07\",\"2020-10-07\",\"2020-10-08\",\"2020-10-08\",\"2020-10-09\",\"2020-10-09\",\n",
    "        \"2020-10-10\",\"2020-10-10\"\n",
    "    ],\n",
    "    \"Price\": [\n",
    "        50,89,36,24,39,37,42,63,30,65,\n",
    "        47,56,71,50,80,54,75,30,63,32\n",
    "    ]\n",
    "}\n",
    "\n",
    "df = pd.DataFrame(data)\n",
    "\n",
    "# Ensure date column is datetime\n",
    "df[\"Price_date\"] = pd.to_datetime(df[\"Price_date\"])\n",
    "\n",
    "\n",
    "\n",
    "# Test simple query without PREV first\n",
    "query_simple = \"\"\"\n",
    "SELECT *\n",
    "FROM memory.default.stock_price\n",
    "MATCH_RECOGNIZE (\n",
    "  PARTITION BY Company\n",
    "  ORDER BY Price_date\n",
    "  PATTERN (rise+ peak fall+)\n",
    "  DEFINE\n",
    "    rise AS rise.Price > PREV(rise.Price),\n",
    "    peak AS peak.Price >= PREV(rise.Price) AND peak.Price >= NEXT(fall.Price),\n",
    "    fall AS fall.Price < PREV(fall.Price)\n",
    ");\n",
    "\n",
    "\n",
    "\n",
    "\n",
    "\n",
    "\"\"\"\n",
    "\n",
    "print(\"Testing:\")\n",
    "try:\n",
    "    result = match_recognize(query_simple, df)\n",
    "    print(result)\n",
    "except Exception as e:\n",
    "    print(f\"Error: {e}\")\n",
    "    import traceback\n",
    "    traceback.print_exc()\n",
    "print()"
   ]
  }
 ],
 "metadata": {
  "kernelspec": {
   "display_name": "base",
   "language": "python",
   "name": "python3"
  },
  "language_info": {
   "codemirror_mode": {
    "name": "ipython",
    "version": 3
   },
   "file_extension": ".py",
   "mimetype": "text/x-python",
   "name": "python",
   "nbconvert_exporter": "python",
   "pygments_lexer": "ipython3",
   "version": "3.12.7"
  }
 },
 "nbformat": 4,
 "nbformat_minor": 5
}
