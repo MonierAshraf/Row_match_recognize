{
 "cells": [
  {
   "cell_type": "code",
   "execution_count": null,
   "id": "edcd6d1f",
   "metadata": {},
   "outputs": [],
   "source": [
    " docker exec -it trino trino"
   ]
  },
  {
   "cell_type": "code",
   "execution_count": null,
   "id": "015d5a58",
   "metadata": {},
   "outputs": [],
   "source": [
    "CREATE TABLE memory.default.employees (\n",
    "    id INTEGER,\n",
    "    name VARCHAR,\n",
    "    department VARCHAR,\n",
    "    region VARCHAR,\n",
    "    hire_date DATE,\n",
    "    salary INTEGER\n",
    ");\n"
   ]
  },
  {
   "cell_type": "code",
   "execution_count": null,
   "id": "386229cd",
   "metadata": {},
   "outputs": [],
   "source": [
    "INSERT INTO memory.default.employees (id, name, department, region, hire_date, salary) VALUES\n",
    "    (1, 'Alice',   'Sales', 'West', DATE '2021-01-01', 1200),\n",
    "    (2, 'Bob',     'Sales', 'West', DATE '2021-01-02', 1300),\n",
    "    (3, 'Charlie', 'Sales', 'West', DATE '2021-01-03',  900),\n",
    "    (4, 'Diana',   'Sales', 'West', DATE '2021-01-04', 1100);\n"
   ]
  },
  {
   "cell_type": "code",
   "execution_count": null,
   "id": "abfb2bab",
   "metadata": {},
   "outputs": [],
   "source": [
    "CREATE TABLE memory.default.op2 (\n",
    "    id INTEGER,\n",
    "    seq INTEGER,\n",
    "    step INTEGER,\n",
    "    event_type VARCHAR,\n",
    "    value INTEGER\n",
    ");\n"
   ]
  },
  {
   "cell_type": "code",
   "execution_count": null,
   "id": "b5f6bc3a",
   "metadata": {},
   "outputs": [],
   "source": [
    "INSERT INTO memory.default.op2 (id, seq, step, event_type, value) VALUES\n",
    "(1, 1, 1, 'start', 100),\n",
    "(2, 1, 2, 'middle', 200),\n",
    "(3, 1, 3, 'end', 300),\n",
    "\n",
    "(4, 2, 1, 'middle', 250),\n",
    "(5, 2, 2, 'start', 150),\n",
    "(6, 2, 3, 'end', 350),\n",
    "\n",
    "(7, 3, 1, 'start', 175),\n",
    "(8, 3, 2, 'end', 275),\n",
    "(9, 3, 3, 'middle', 375),\n",
    "\n",
    "(10, 4, 1, 'end', 225),\n",
    "(11, 4, 2, 'middle', 325),\n",
    "(12, 4, 3, 'start', 425);\n"
   ]
  },
  {
   "cell_type": "code",
   "execution_count": null,
   "id": "ffe83cb1",
   "metadata": {},
   "outputs": [],
   "source": [
    "CREATE TABLE memory.default.orders (\n",
    "    customer_id VARCHAR,\n",
    "    order_date DATE,\n",
    "    price INTEGER\n",
    ");\n"
   ]
  },
  {
   "cell_type": "code",
   "execution_count": null,
   "id": "beddbc14",
   "metadata": {},
   "outputs": [],
   "source": [
    "INSERT INTO memory.default.orders\n",
    "VALUES \n",
    "    ('cust_1', DATE '2020-05-11', 100),\n",
    "    ('cust_1', DATE '2020-05-12', 200),\n",
    "    ('cust_2', DATE '2020-05-13',   8),\n",
    "    ('cust_1', DATE '2020-05-14', 100),\n",
    "    ('cust_2', DATE '2020-05-15',   4),\n",
    "    ('cust_1', DATE '2020-05-16',  50),\n",
    "    ('cust_1', DATE '2020-05-17', 100),\n",
    "    ('cust_2', DATE '2020-05-18',   6);\n"
   ]
  },
  {
   "cell_type": "code",
   "execution_count": null,
   "id": "c3bc6e6e",
   "metadata": {},
   "outputs": [],
   "source": []
  },
  {
   "cell_type": "code",
   "execution_count": null,
   "id": "e239f569",
   "metadata": {},
   "outputs": [],
   "source": []
  },
  {
   "cell_type": "code",
   "execution_count": null,
   "id": "d7117c13",
   "metadata": {},
   "outputs": [],
   "source": [
    "#for testing comprehensive match recognize\n",
    "cd /home/monierashraf/Desktop/llm/Row_match_recognize && python -m pytest tests/test_comprehensive_match_recognize.py tests/test_performance_stress.py -v --tb=short"
   ]
  }
 ],
 "metadata": {
  "kernelspec": {
   "display_name": "base",
   "language": "python",
   "name": "python3"
  },
  "language_info": {
   "name": "python",
   "version": "3.12.7"
  }
 },
 "nbformat": 4,
 "nbformat_minor": 5
}
